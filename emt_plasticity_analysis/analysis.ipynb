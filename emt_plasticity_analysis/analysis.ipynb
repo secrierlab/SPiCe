{
 "cells": [
  {
   "cell_type": "markdown",
   "metadata": {},
   "source": [
    "# GNN model to model EMT \n",
    "\n",
    "Note: figure code found in figures_paper_gnn.ipynb"
   ]
  },
  {
   "cell_type": "markdown",
   "metadata": {},
   "source": [
    "use: base_env_gnn.yml"
   ]
  },
  {
   "cell_type": "code",
   "execution_count": null,
   "metadata": {},
   "outputs": [],
   "source": [
    "import os\n",
    "import numpy as np\n",
    "import pandas as pd\n",
    "import networkx as nx\n",
    "import torch\n",
    "from tqdm import tqdm\n",
    "\n",
    "from src.config import *\n",
    "from src.data_processing import load_and_process_data, assign_emt_labels\n",
    "from src.graph_utils import build_graph, assign_one_hot_celltype, assign_spatial_blocks, create_edge_index\n",
    "from src.dataset import XeniumSpatialPyg\n",
    "from src.models import Net\n",
    "from src.train import cross_validation_training\n",
    "from src.evaluation import evaluate_classification,evaluate_regression  # or evaluate_regression if continuous\n",
    "from src.explanations import generate_node_explanations, generate_edge_explanations\n",
    "\n",
    "# 1. Load and process data\n",
    "xenium_labels, pca_columns = load_and_process_data()\n",
    "#default: four states, if false then analyse 2 state model\n",
    "xenium_labels, mapping = assign_emt_labels(xenium_labels, four_states=True)\n",
    "\n",
    "# 2. Build the graph\n",
    "G = build_graph(xenium_labels, neighbour_no=10)\n",
    "lb = assign_one_hot_celltype(G, attribute='celltype_minor')\n",
    "assign_spatial_blocks(G, n_blocks=4)\n",
    "edge_index, edge_weights = create_edge_index(G, edge_lengths=True)\n",
    "\n",
    "# 3. Create cross-validation datasets\n",
    "num_folds = 2\n",
    "fold_datasets = []\n",
    "for fold_idx in range(1, num_folds + 1):\n",
    "    dataset = XeniumSpatialPyg(G, xenium_labels, edge_index=edge_index, edge_lengths=edge_weights,\n",
    "                                inductive_split=False, test_cnv_prediction=True, continuous_y=True,\n",
    "                                tme_and_cnv=True, fold_idx=fold_idx, num_folds=num_folds)\n",
    "    fold_datasets.append(dataset[0])\n",
    "\n",
    "# 4. Train models via cross-validation\n",
    "all_predicted, all_true, models = cross_validation_training(fold_datasets, learning_rate=0.01, num_epochs=1000)\n",
    "\n",
    "# 5. Evaluate classification performance\n",
    "n_classes = all_predicted[0].shape[1]\n",
    "df_auc = evaluate_classification(all_predicted, all_true, n_classes)\n",
    "df_auc.to_csv('results/auc_scores_per_fold_and_class.csv', index=False)\n",
    "\n",
    "#regression \n",
    "#df_rmse = evaluate_regression(all_predicted, all_true)\n",
    "#df_rmse.to_csv('results/rmse_scores_per_fold.csv', index=False)\n",
    "\n",
    "# 6. Generate explanations for one fold \n",
    "data = fold_datasets[0]\n",
    "predicted = all_predicted[0]\n",
    "model = models[0]\n",
    "#set this >100 for most accurate node explanations; set to 300 for results in the paper\n",
    "no_explan = 300\n",
    "\n",
    "mask = data['test_mask']\n",
    "indices = [i for i, x in enumerate(mask) if x]\n",
    "_, predict_labels = torch.max(torch.tensor(predicted), dim=1)\n",
    "predict_labels = predict_labels.cpu()\n",
    "test_labels_index = pd.DataFrame({\n",
    "    'Indices': indices,\n",
    "    'Label': predict_labels\n",
    "})\n",
    "\n",
    "# Generate node explanations; file saved in node_p_values.csv\n",
    "node_expls, node_pvals = generate_node_explanations(model, data, test_labels_index, no_explan=no_explan, mask_type=\"node\", label_list=lb.classes_)\n",
    "node_pvals.to_csv(f\"node_explanations.csv\", index=True)\n",
    "\n",
    "# Generate edge explanations: takes a while to run\n",
    "edge_results = generate_edge_explanations(model, data, G, no_explan=no_explan, cell_type=\"xenium\", output_dir=\"results/\")\n"
   ]
  },
  {
   "cell_type": "markdown",
   "metadata": {},
   "source": [
    "Plot results"
   ]
  },
  {
   "cell_type": "markdown",
   "metadata": {},
   "source": [
    "view result downstream analysis in figures_paper_gnn.ipynb"
   ]
  }
 ],
 "metadata": {
  "kernelspec": {
   "display_name": "base",
   "language": "python",
   "name": "python3"
  },
  "language_info": {
   "codemirror_mode": {
    "name": "ipython",
    "version": 3
   },
   "file_extension": ".py",
   "mimetype": "text/x-python",
   "name": "python",
   "nbconvert_exporter": "python",
   "pygments_lexer": "ipython3",
   "version": "3.12.4"
  }
 },
 "nbformat": 4,
 "nbformat_minor": 2
}
