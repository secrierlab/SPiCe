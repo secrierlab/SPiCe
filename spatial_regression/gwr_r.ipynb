{
 "cells": [
  {
   "cell_type": "markdown",
   "metadata": {},
   "source": [
    "# mXGWR implementation\n",
    "faster implementation than python. note: SEM model and GWR conducted in python gwr.ipynb notebook"
   ]
  },
  {
   "cell_type": "code",
   "execution_count": null,
   "metadata": {
    "vscode": {
     "languageId": "r"
    }
   },
   "outputs": [],
   "source": [
    ".libPaths(\"~/R/x86_64-pc-linux-gnu-library/4.4\")\n",
    "\n",
    "install.packages(\"sf\", type = \"source\", verbose = TRUE, keep_outputs = TRUE)\n",
    "install.packages(\"Rcpp\")\n",
    "find.package(\"Rcpp\")\n",
    "find.package(\"RcppEigen\")\n",
    "library(Rcpp)\n",
    "library(RcppEigen)\n",
    "library(sf)\n",
    "library(spatstat)\n",
    "library(tidyverse)\n",
    "library(GWmodel)    # to undertake the GWR\n",
    "library(geojsonio)  # to read the geojson file\n",
    "library(spatialRF)\n",
    "#dplyr\n",
    "library(dplyr)\n",
    "\n",
    ".libPaths()\n",
    "install.packages(\"geojsonio\",verbose = TRUE, keep_outputs = TRUE)\n",
    "install.packages(\"GWmodel\",type = \"source\", verbose = TRUE, keep_outputs = TRUE)\n",
    "install.packages(\"spatstat\",type = \"source\", verbose = TRUE, keep_outputs = TRUE)\n",
    "install.packages(\"spatialRF\")\n",
    "install.packages(\"kableExtra\")\n"
   ]
  },
  {
   "cell_type": "markdown",
   "metadata": {},
   "source": [
    "https://bookdown.org/lexcomber/GEOG3195/spatial-models---geographically-weighted-regression.html"
   ]
  },
  {
   "cell_type": "markdown",
   "metadata": {},
   "source": []
  },
  {
   "cell_type": "code",
   "execution_count": 2,
   "metadata": {
    "vscode": {
     "languageId": "r"
    }
   },
   "outputs": [
    {
     "name": "stdout",
     "output_type": "stream",
     "text": [
      "[1] \"DCIS_2\"                \"Invasive_Tumor\"        \"Prolif_Invasive_Tumor\"\n",
      "[4] \"DCIS_1\"               \n"
     ]
    }
   ],
   "source": [
    "xenium_aligned_ductal_invasive = read.csv(\"results/xenium_aligned_ductal_invasive.csv\",row.names=1)\n",
    "#print unique xenium_aligned_ductal_invasive Cluster values\n",
    "print(unique(xenium_aligned_ductal_invasive$Cluster))\n",
    "X_pca_df_pcs=read.csv(\"results/X_pca_df.csv\",row.names=1)\n",
    "#select columns starting with PC and cell_id\n",
    "X_pca_df_pcs = X_pca_df_pcs %>% select(starts_with(\"PC\"),cell_id)\n"
   ]
  },
  {
   "cell_type": "code",
   "execution_count": null,
   "metadata": {
    "vscode": {
     "languageId": "r"
    }
   },
   "outputs": [],
   "source": [
    "#remove cluster column\n",
    "X_pca_df = X_pca_df %>% select(-Cluster)\n",
    "#merge X_pca_df with X_pca_df_pcs\n",
    "X_pca_df = merge(X_pca_df,X_pca_df_pcs,by='cell_id')\n",
    "xenium_aligned_ductal_invasive = read.csv(\"results/xenium_aligned_ductal_invasive.csv\",row.names=1)\n",
    "#filter for Cluster and Barcode\n",
    "xenium_aligned_ductal_invasive = xenium_aligned_ductal_invasive %>% select(Cluster,Barcode)\n",
    "\n",
    "#merge the two dataframes\n",
    "xenium_aligned_ductal_invasive_merged = merge(xenium_aligned_ductal_invasive,X_pca_df,by.y='cell_id',by.x=\"Barcode\")\n",
    "#save xenium_aligned_ductal_invasive_merged\n",
    "write.csv(xenium_aligned_ductal_invasive_merged,\"results/xenium_regression_df.csv\")\n",
    "subtype_specific_model=\"Invasive_Tumor\"\n",
    "#subtype_specific_model=\"alldcis\"\n",
    "\n",
    "##filter for the specific subtype\n",
    "#xenium_aligned_ductal_invasive_merged = xenium_aligned_ductal_invasive_merged %>% filter(Cluster==subtype_specific_model)\n",
    "#filter for if Cluster contains DCIS\n",
    "xenium_aligned_ductal_invasive_merged = xenium_aligned_ductal_invasive_merged %>% filter(grepl(\"DCIS\",Cluster))\n",
    "#drop the cluster column\n",
    "X_pca_df = xenium_aligned_ductal_invasive_merged %>% select(-Cluster)\n",
    "X_pca_df = xenium_aligned_ductal_invasive_merged\n",
    "#remove the barcode column\n",
    "X_pca_df = X_pca_df %>% select(-Barcode)\n",
    "\n",
    "\n",
    "#NORMALIZE THE COLUMNS BEGINNING WITH \"MIN\"\n",
    "X_pca_df = X_pca_df %>% mutate_at(vars(starts_with(\"min\")), funs((.-min(.))/(max(.)-min(.))))\n",
    "#switch the sign of the columns beginning with \"min\"\n",
    "X_pca_df = X_pca_df %>% mutate_at(vars(starts_with(\"min\")), funs(-.))\n",
    "\n",
    "X_pca_df = X_pca_df %>% mutate_at(vars(starts_with(\"PC\")), funs((.-min(.))/(max(.)-min(.))))\n",
    "sf_data <- st_as_sf(\n",
    "  X_pca_df,\n",
    "  coords = c(\"array_col\", \"array_row\"), # Specify coordinate columns\n",
    "  crs = NA                              # No CRS\n",
    ")\n",
    "\n",
    "#select predictor.variable.names as columns starting with \"PC\" or \"min\"\n",
    "predictor.variable.names = colnames(X_pca_df)[grepl(\"PC\",colnames(X_pca_df)) | grepl(\"min_distance\",colnames(X_pca_df))]\n"
   ]
  },
  {
   "cell_type": "markdown",
   "metadata": {},
   "source": [
    "Code to run to remove variables with high VIF"
   ]
  },
  {
   "cell_type": "code",
   "execution_count": null,
   "metadata": {
    "vscode": {
     "languageId": "r"
    }
   },
   "outputs": [],
   "source": [
    "\"\"\"\n",
    "install.packages(\"corrplot\")\n",
    "library(corrplot)\n",
    "library(RColorBrewer)\n",
    "options(repr.plot.width = 12, repr.plot.height = 10)  # Adjust width and height as needed\n",
    "correlation_matrix = cor(X_pca_df[,predictor.variable.names])\n",
    "\n",
    "corrplot(correlation_matrix, type=\"upper\", order=\"hclust\",\n",
    "         col=brewer.pal(n=8, name=\"RdBu\"))\n",
    "\n",
    "predictor.variable.names <- spatialRF::auto_cor(\n",
    "  x = X_pca_df[, predictor.variable.names],\n",
    "  cor.threshold = 0.90) %>% \n",
    "  spatialRF::auto_vif(\n",
    "    vif.threshold = 10,preference.order = preference)\n",
    "  \n",
    "  predictor.variable.names <- spatialRF::auto_cor(x = X_pca_df[, predictor.variable.names],cor.threshold = 0.80)\n",
    "\"\"\""
   ]
  },
  {
   "cell_type": "markdown",
   "metadata": {},
   "source": [
    "High VIF variables"
   ]
  },
  {
   "cell_type": "code",
   "execution_count": null,
   "metadata": {
    "vscode": {
     "languageId": "r"
    }
   },
   "outputs": [],
   "source": [
    "X_pca_df = X_pca_df %>% select(-min_distance_to_Endothelial.RGS5,-min_distance_to_CAFs.MSC.iCAF.like)"
   ]
  },
  {
   "cell_type": "markdown",
   "metadata": {},
   "source": [
    "Change filtering options"
   ]
  },
  {
   "cell_type": "code",
   "execution_count": null,
   "metadata": {
    "vscode": {
     "languageId": "r"
    }
   },
   "outputs": [],
   "source": [
    "#select column names starting with \"min\" and \"PC\" from X_pca_df and \"array_col\",\"array_row\"\n",
    "#predictor.variable.names=colnames(X_pca_df)[grepl(\"min_\",colnames(X_pca_df)) | grepl(\"PC\",colnames(X_pca_df))]\n",
    "predictor.variable.names=colnames(X_pca_df)[grepl(\"min_\",colnames(X_pca_df))]\n",
    "\n",
    "dependent_variable <- \"EMT_hallmarks\"\n",
    "formula_str <- paste(dependent_variable, \"~\", paste(predictor.variable.names, collapse = \" + \"))\n",
    "formula <- as.formula(formula_str)\n",
    "sf_data <- st_as_sf(\n",
    "  X_pca_df,\n",
    "  coords = c(\"array_col\", \"array_row\"), \n",
    "  crs = NA                           \n",
    ")\n"
   ]
  },
  {
   "cell_type": "markdown",
   "metadata": {},
   "source": [
    "Detect bandwidths for each variable"
   ]
  },
  {
   "cell_type": "code",
   "execution_count": null,
   "metadata": {
    "vscode": {
     "languageId": "r"
    }
   },
   "outputs": [],
   "source": [
    "\n",
    "bw <- bw.gwr(formula,approach = \"AIC\",\n",
    "             adaptive = T,\n",
    "             data=sf_data) \n",
    "\n",
    "m.gwr <- gwr.basic(formula, \n",
    "                adaptive = T,\n",
    "                data = sf_data,\n",
    "                bw = bw)  \n",
    "#save the model\n",
    "#save to subtype_specific_model + \"_gwr.rds\"\n",
    "saveRDS(m.gwr,\"justtme_dcis_gwr.rds\")"
   ]
  },
  {
   "cell_type": "code",
   "execution_count": null,
   "metadata": {
    "vscode": {
     "languageId": "r"
    }
   },
   "outputs": [
    {
     "data": {
      "text/plain": [
       "   ***********************************************************************\n",
       "   *                       Package   GWmodel                             *\n",
       "   ***********************************************************************\n",
       "   Program starts at: 2024-11-02 00:27:08.857003 \n",
       "   Call:\n",
       "   gwr.basic(formula = formula, data = sf_data, bw = bw, adaptive = T)\n",
       "\n",
       "   Dependent (y) variable:  EMT_hallmarks\n",
       "   Independent variables:  min_distance_to_Cancer.LumA.SC min_distance_to_Macrophage min_distance_to_Cancer.Basal.SC min_distance_to_Cancer.LumB.SC min_distance_to_Luminal.Progenitors min_distance_to_PVL.Immature min_distance_to_Mature.Luminal min_distance_to_Cancer.Her2.SC min_distance_to_Myoepithelial min_distance_to_CAFs.myCAF.like min_distance_to_Cancer.Cycling min_distance_to_Monocyte min_distance_to_Cycling_Myeloid min_distance_to_Endothelial.Lymphatic.LYVE1 min_distance_to_Endothelial.CXCL12 min_distance_to_NK.cells min_distance_to_Cycling.T.cells min_distance_to_Endothelial.ACKR1 min_distance_to_Plasmablasts min_distance_to_NKT.cells min_distance_to_T.cells.CD8. min_distance_to_T.cells.CD4. min_distance_to_DCs min_distance_to_B.cells.Naive min_distance_to_B.cells.Memory min_distance_to_Cycling.PVL min_distance_to_PVL.Differentiated\n",
       "   Number of data points: 5662\n",
       "   ***********************************************************************\n",
       "   *                    Results of Global Regression                     *\n",
       "   ***********************************************************************\n",
       "\n",
       "   Call:\n",
       "    lm(formula = formula, data = data)\n",
       "\n",
       "   Residuals:\n",
       "     Min       1Q   Median       3Q      Max \n",
       "-0.12411 -0.02095 -0.00269  0.01747  0.41606 \n",
       "\n",
       "   Coefficients:\n",
       "                                                 Estimate Std. Error t value\n",
       "   (Intercept)                                  0.1813885  0.0026032  69.680\n",
       "   min_distance_to_Cancer.LumA.SC              -0.0668298  0.0061463 -10.873\n",
       "   min_distance_to_Macrophage                   0.0085306  0.0031719   2.689\n",
       "   min_distance_to_Cancer.Basal.SC              0.0013113  0.0038059   0.345\n",
       "   min_distance_to_Cancer.LumB.SC               0.0370447  0.0060569   6.116\n",
       "   min_distance_to_Luminal.Progenitors         -0.0005145  0.0041468  -0.124\n",
       "   min_distance_to_PVL.Immature                -0.0003720  0.0031666  -0.117\n",
       "   min_distance_to_Mature.Luminal               0.0009196  0.0048533   0.189\n",
       "   min_distance_to_Cancer.Her2.SC              -0.0643774  0.0046909 -13.724\n",
       "   min_distance_to_Myoepithelial                0.0456030  0.0111757   4.081\n",
       "   min_distance_to_CAFs.myCAF.like              0.0370527  0.0053824   6.884\n",
       "   min_distance_to_Cancer.Cycling              -0.0278008  0.0055973  -4.967\n",
       "   min_distance_to_Monocyte                     0.0082188  0.0028479   2.886\n",
       "   min_distance_to_Cycling_Myeloid              0.0033511  0.0026565   1.261\n",
       "   min_distance_to_Endothelial.Lymphatic.LYVE1  0.0013635  0.0030355   0.449\n",
       "   min_distance_to_Endothelial.CXCL12           0.0081746  0.0043637   1.873\n",
       "   min_distance_to_NK.cells                    -0.0142021  0.0039131  -3.629\n",
       "   min_distance_to_Cycling.T.cells              0.0030623  0.0035778   0.856\n",
       "   min_distance_to_Endothelial.ACKR1           -0.0045737  0.0039722  -1.151\n",
       "   min_distance_to_Plasmablasts                 0.0247601  0.0046762   5.295\n",
       "   min_distance_to_NKT.cells                    0.0083281  0.0033824   2.462\n",
       "   min_distance_to_T.cells.CD8.                -0.0069349  0.0039029  -1.777\n",
       "   min_distance_to_T.cells.CD4.                -0.0016776  0.0048359  -0.347\n",
       "   min_distance_to_DCs                          0.0095099  0.0032818   2.898\n",
       "   min_distance_to_B.cells.Naive               -0.0145140  0.0036784  -3.946\n",
       "   min_distance_to_B.cells.Memory               0.0123319  0.0036483   3.380\n",
       "   min_distance_to_Cycling.PVL                 -0.0063700  0.0028782  -2.213\n",
       "   min_distance_to_PVL.Differentiated           0.0073311  0.0031257   2.345\n",
       "                                                           Pr(>|t|)    \n",
       "   (Intercept)                                 < 0.0000000000000002 ***\n",
       "   min_distance_to_Cancer.LumA.SC              < 0.0000000000000002 ***\n",
       "   min_distance_to_Macrophage                              0.007179 ** \n",
       "   min_distance_to_Cancer.Basal.SC                         0.730461    \n",
       "   min_distance_to_Cancer.LumB.SC                  0.00000000102342 ***\n",
       "   min_distance_to_Luminal.Progenitors                     0.901266    \n",
       "   min_distance_to_PVL.Immature                            0.906482    \n",
       "   min_distance_to_Mature.Luminal                          0.849719    \n",
       "   min_distance_to_Cancer.Her2.SC              < 0.0000000000000002 ***\n",
       "   min_distance_to_Myoepithelial                   0.00004554899579 ***\n",
       "   min_distance_to_CAFs.myCAF.like                 0.00000000000645 ***\n",
       "   min_distance_to_Cancer.Cycling                  0.00000070078596 ***\n",
       "   min_distance_to_Monocyte                                0.003918 ** \n",
       "   min_distance_to_Cycling_Myeloid                         0.207184    \n",
       "   min_distance_to_Endothelial.Lymphatic.LYVE1             0.653328    \n",
       "   min_distance_to_Endothelial.CXCL12                      0.061076 .  \n",
       "   min_distance_to_NK.cells                                0.000287 ***\n",
       "   min_distance_to_Cycling.T.cells                         0.392089    \n",
       "   min_distance_to_Endothelial.ACKR1                       0.249601    \n",
       "   min_distance_to_Plasmablasts                    0.00000012360333 ***\n",
       "   min_distance_to_NKT.cells                               0.013839 *  \n",
       "   min_distance_to_T.cells.CD8.                            0.075643 .  \n",
       "   min_distance_to_T.cells.CD4.                            0.728676    \n",
       "   min_distance_to_DCs                                     0.003773 ** \n",
       "   min_distance_to_B.cells.Naive                   0.00008050781005 ***\n",
       "   min_distance_to_B.cells.Memory                          0.000729 ***\n",
       "   min_distance_to_Cycling.PVL                             0.026923 *  \n",
       "   min_distance_to_PVL.Differentiated                      0.019038 *  \n",
       "\n",
       "   ---Significance stars\n",
       "   Signif. codes:  0 '***' 0.001 '**' 0.01 '*' 0.05 '.' 0.1 ' ' 1 \n",
       "   Residual standard error: 0.03314 on 5634 degrees of freedom\n",
       "   Multiple R-squared: 0.2184\n",
       "   Adjusted R-squared: 0.2147 \n",
       "   F-statistic: 58.31 on 27 and 5634 DF,  p-value: < 0.00000000000000022 \n",
       "   ***Extra Diagnostic information\n",
       "   Residual sum of squares: 6.189277\n",
       "   Sigma(hat): 0.03306829\n",
       "   AIC:  -22481.5\n",
       "   AICc:  -22481.19\n",
       "   BIC:  -27700.29\n",
       "   ***********************************************************************\n",
       "   *          Results of Geographically Weighted Regression              *\n",
       "   ***********************************************************************\n",
       "\n",
       "   *********************Model calibration information*********************\n",
       "   Kernel function: bisquare \n",
       "   Adaptive bandwidth: 790 (number of nearest neighbours)\n",
       "   Regression points: the same locations as observations are used.\n",
       "   Distance metric: Euclidean distance metric is used.\n",
       "\n",
       "   ****************Summary of GWR coefficient estimates:******************\n",
       "                                                      Min.     1st Qu.\n",
       "   Intercept                                    0.09593608  0.16335274\n",
       "   min_distance_to_Cancer.LumA.SC              -0.17511231 -0.08624123\n",
       "   min_distance_to_Macrophage                  -0.04811233 -0.01678706\n",
       "   min_distance_to_Cancer.Basal.SC             -0.06046753 -0.02116588\n",
       "   min_distance_to_Cancer.LumB.SC              -0.16375038 -0.01685162\n",
       "   min_distance_to_Luminal.Progenitors         -0.50113763 -0.16747235\n",
       "   min_distance_to_PVL.Immature                -0.18794113 -0.04204180\n",
       "   min_distance_to_Mature.Luminal              -0.09241082 -0.02698040\n",
       "   min_distance_to_Cancer.Her2.SC              -0.17393351 -0.09864629\n",
       "   min_distance_to_Myoepithelial               -0.50355417  0.04115213\n",
       "   min_distance_to_CAFs.myCAF.like             -0.10933748 -0.00789092\n",
       "   min_distance_to_Cancer.Cycling              -0.21335228 -0.06240391\n",
       "   min_distance_to_Monocyte                    -0.02575991  0.00840164\n",
       "   min_distance_to_Cycling_Myeloid             -0.05079518 -0.01105418\n",
       "   min_distance_to_Endothelial.Lymphatic.LYVE1 -0.06078964 -0.01059724\n",
       "   min_distance_to_Endothelial.CXCL12          -0.08024618 -0.02254570\n",
       "   min_distance_to_NK.cells                    -0.16069310 -0.02846838\n",
       "   min_distance_to_Cycling.T.cells             -0.11912597 -0.01343095\n",
       "   min_distance_to_Endothelial.ACKR1           -0.13232166 -0.02905704\n",
       "   min_distance_to_Plasmablasts                -0.08933690 -0.00477652\n",
       "   min_distance_to_NKT.cells                   -0.06581479 -0.01774444\n",
       "   min_distance_to_T.cells.CD8.                -0.09011550 -0.02983750\n",
       "   min_distance_to_T.cells.CD4.                -0.18171451 -0.04606100\n",
       "   min_distance_to_DCs                         -0.06997073 -0.00499373\n",
       "   min_distance_to_B.cells.Naive               -0.14813761 -0.02236686\n",
       "   min_distance_to_B.cells.Memory              -0.14950681 -0.01715133\n",
       "   min_distance_to_Cycling.PVL                 -0.13794260 -0.04495533\n",
       "   min_distance_to_PVL.Differentiated          -0.10186705 -0.01131824\n",
       "                                                    Median     3rd Qu.   Max.\n",
       "   Intercept                                    0.18376439  0.21222878 0.3186\n",
       "   min_distance_to_Cancer.LumA.SC              -0.06560249 -0.03683754 0.0109\n",
       "   min_distance_to_Macrophage                   0.00122499  0.01403743 0.0516\n",
       "   min_distance_to_Cancer.Basal.SC             -0.00269050  0.01173269 0.0497\n",
       "   min_distance_to_Cancer.LumB.SC               0.02252493  0.05187615 0.1566\n",
       "   min_distance_to_Luminal.Progenitors         -0.07346576 -0.00555663 0.2410\n",
       "   min_distance_to_PVL.Immature                -0.00857283  0.02877983 0.1226\n",
       "   min_distance_to_Mature.Luminal              -0.00332384  0.01471770 0.0597\n",
       "   min_distance_to_Cancer.Her2.SC              -0.06833051 -0.02488108 0.0170\n",
       "   min_distance_to_Myoepithelial                0.13087859  0.17993564 0.7190\n",
       "   min_distance_to_CAFs.myCAF.like              0.03676375  0.10127429 0.2120\n",
       "   min_distance_to_Cancer.Cycling              -0.04088934 -0.00847083 0.2334\n",
       "   min_distance_to_Monocyte                     0.01659741  0.02989925 0.0759\n",
       "   min_distance_to_Cycling_Myeloid              0.00057480  0.01006598 0.0304\n",
       "   min_distance_to_Endothelial.Lymphatic.LYVE1  0.00310715  0.01683997 0.1530\n",
       "   min_distance_to_Endothelial.CXCL12          -0.00824028  0.02064289 0.1242\n",
       "   min_distance_to_NK.cells                    -0.00077005  0.01769757 0.1552\n",
       "   min_distance_to_Cycling.T.cells              0.00555312  0.02176825 0.0606\n",
       "   min_distance_to_Endothelial.ACKR1           -0.01002459  0.01191354 0.1114\n",
       "   min_distance_to_Plasmablasts                 0.02595679  0.05863024 0.1877\n",
       "   min_distance_to_NKT.cells                   -0.00150229  0.01646399 0.0865\n",
       "   min_distance_to_T.cells.CD8.                -0.00176369  0.01409934 0.2074\n",
       "   min_distance_to_T.cells.CD4.                -0.01101207  0.02297708 0.1848\n",
       "   min_distance_to_DCs                          0.00922657  0.02503203 0.0731\n",
       "   min_distance_to_B.cells.Naive                0.01547211  0.05760722 0.2102\n",
       "   min_distance_to_B.cells.Memory               0.00638802  0.04905489 0.1883\n",
       "   min_distance_to_Cycling.PVL                 -0.00723988  0.01761023 0.1497\n",
       "   min_distance_to_PVL.Differentiated           0.00922840  0.02359949 0.0837\n",
       "   ************************Diagnostic information*************************\n",
       "   Number of data points: 5662 \n",
       "   Effective number of parameters (2trace(S) - trace(S'S)): 449.1649 \n",
       "   Effective degrees of freedom (n-2trace(S) + trace(S'S)): 5212.835 \n",
       "   AICc (GWR book, Fotheringham, et al. 2002, p. 61, eq 2.33): -22923.22 \n",
       "   AIC (GWR book, Fotheringham, et al. 2002,GWR p. 96, eq. 4.22): -23349.84 \n",
       "   BIC (GWR book, Fotheringham, et al. 2002,GWR p. 61, eq. 2.34): -26170.01 \n",
       "   Residual sum of squares: 5.022948 \n",
       "   R-square value:  0.3656865 \n",
       "   Adjusted R-square value:  0.3110202 \n",
       "\n",
       "   ***********************************************************************\n",
       "   Program stops at: 2024-11-02 00:28:07.012405 "
      ]
     },
     "metadata": {},
     "output_type": "display_data"
    }
   ],
   "source": [
    "m.gwr"
   ]
  },
  {
   "cell_type": "code",
   "execution_count": null,
   "metadata": {
    "vscode": {
     "languageId": "r"
    }
   },
   "outputs": [
    {
     "name": "stderr",
     "output_type": "stream",
     "text": [
      "Warning message in gwr.multiscale(formula, data = sf_data, adaptive = T, max.iterations = 1000, :\n",
      "“All the predictors will be centered, please check the parameter predictor.centered”\n"
     ]
    }
   ],
   "source": [
    "#list of bws0 based on the number of variables plus 1\n",
    "bws0_list = rep(100,length(predictor.variable.names)+1)\n",
    "gw.ms <- gwr.multiscale(formula, \n",
    "                        data = sf_data,\n",
    "                        adaptive = T, max.iterations = 1000,\n",
    "                        criterion=\"CVR\",\n",
    "                        kernel = \"bisquare\",\n",
    "                        bws0=bws0_list,\n",
    "                        verbose = T, predictor.centered=rep(T, 4))\n",
    "saveRDS(gw.ms,\"justtme_dcis_msgwr.rds\")"
   ]
  },
  {
   "cell_type": "code",
   "execution_count": 3,
   "metadata": {
    "vscode": {
     "languageId": "r"
    }
   },
   "outputs": [],
   "source": [
    "m.gwr= readRDS(\"results/justtme_dcis_gwr.rds\")\n",
    "gw.ms=readRDS(\"results/justtme_dcis_msgwr.rds\")\n"
   ]
  },
  {
   "cell_type": "markdown",
   "metadata": {},
   "source": [
    "Extract coefficients to plot"
   ]
  },
  {
   "cell_type": "code",
   "execution_count": null,
   "metadata": {
    "vscode": {
     "languageId": "r"
    }
   },
   "outputs": [
    {
     "data": {
      "text/html": [
       "5662"
      ],
      "text/latex": [
       "5662"
      ],
      "text/markdown": [
       "5662"
      ],
      "text/plain": [
       "[1] 5662"
      ]
     },
     "metadata": {},
     "output_type": "display_data"
    },
    {
     "data": {
      "text/html": [
       "5662"
      ],
      "text/latex": [
       "5662"
      ],
      "text/markdown": [
       "5662"
      ],
      "text/plain": [
       "[1] 5662"
      ]
     },
     "metadata": {},
     "output_type": "display_data"
    },
    {
     "data": {
      "text/html": [
       "<style>\n",
       ".list-inline {list-style: none; margin:0; padding: 0}\n",
       ".list-inline>li {display: inline-block}\n",
       ".list-inline>li:not(:last-child)::after {content: \"\\00b7\"; padding: 0 .5ex}\n",
       "</style>\n",
       "<ol class=list-inline><li>2160</li><li>3</li></ol>\n"
      ],
      "text/latex": [
       "\\begin{enumerate*}\n",
       "\\item 2160\n",
       "\\item 3\n",
       "\\end{enumerate*}\n"
      ],
      "text/markdown": [
       "1. 2160\n",
       "2. 3\n",
       "\n",
       "\n"
      ],
      "text/plain": [
       "[1] 2160    3"
      ]
     },
     "metadata": {},
     "output_type": "display_data"
    },
    {
     "data": {
      "text/html": [
       "<style>\n",
       ".list-inline {list-style: none; margin:0; padding: 0}\n",
       ".list-inline>li {display: inline-block}\n",
       ".list-inline>li:not(:last-child)::after {content: \"\\00b7\"; padding: 0 .5ex}\n",
       "</style>\n",
       "<ol class=list-inline><li>793</li><li>4</li></ol>\n"
      ],
      "text/latex": [
       "\\begin{enumerate*}\n",
       "\\item 793\n",
       "\\item 4\n",
       "\\end{enumerate*}\n"
      ],
      "text/markdown": [
       "1. 793\n",
       "2. 4\n",
       "\n",
       "\n"
      ],
      "text/plain": [
       "[1] 793   4"
      ]
     },
     "metadata": {},
     "output_type": "display_data"
    }
   ],
   "source": [
    "\n",
    "# Extract the coefficient and standard error columns for 'min_distance_to_CAFs.myCAF.like'\n",
    "coefficients <- gw.ms$SDF$min_distance_to_T.cells.CD8.  # Coefficients\n",
    "t_values <- gw.ms$SDF$min_distance_to_T.cells.CD8._TV # Standard errors\n",
    "#print size of coefficients\n",
    "length(coefficients)\n",
    "length(t_values)\n",
    "#df <- 5127\n",
    "df<- gw.ms$GW.diagnostic$edf-gw.ms$GW.diagnostic$enp\n",
    "# Calculate p-values assuming a large sample size (for simplicity, use normal approximation)\n",
    "p_values_gw_ms <- 2 * (1 - pt(abs(t_values), df = df))\n",
    "\n",
    "# Output coefficient, standard error, t-value, and p-value for 'min_distance_to_CAFs.myCAF.like'\n",
    "result <- data.frame(\n",
    "  Coefficient = coefficients,\n",
    "  TValue = t_values,\n",
    "  PValue = p_values_gw_ms\n",
    ")\n",
    "\n",
    "\n",
    "# filter result for p-values < 0.05\n",
    "result_filt = result %>% filter(PValue<0.05)\n",
    "#print shape of result_filt\n",
    "dim(result_filt)\n",
    "write.csv(result,\"results/msgwr_tcell4_coef.csv\")\n",
    "\n",
    "\n",
    "df<- m.gwr$GW.diagnostic$edf-m.gwr$GW.diagnostic$enp\n",
    "\n",
    "# do this for m.gwr\n",
    "coefficients <- m.gwr$SDF$min_distance_to_T.cells.CD8.  # Coefficients\n",
    "t_values <- m.gwr$SDF$min_distance_to_T.cells.CD8._TV # Standard errors\n",
    "p_values <- 2 * (1 - pt(abs(t_values), df = df))\n",
    "result <- data.frame(\n",
    "  Location = 1:length(coefficients),\n",
    "  Coefficient = coefficients,\n",
    "  TValue = t_values,\n",
    "  PValue = p_values\n",
    ")\n",
    "#save\n",
    "#filter\n",
    "result_filt = result %>% filter(PValue<0.05)\n",
    "#print shape of result_filt\n",
    "dim(result_filt)\n",
    "\n",
    "write.csv(result,\"results/gwr_tcell4_coef.csv\")\n"
   ]
  },
  {
   "cell_type": "code",
   "execution_count": null,
   "metadata": {
    "vscode": {
     "languageId": "r"
    }
   },
   "outputs": [],
   "source": [
    "variable_names <- names(gw.ms$lm$coefficients)\n",
    "bandwidths <- gw.ms$GW.arguments$bws\n",
    "\n",
    "# Create a data frame with variable names and corresponding bandwidths\n",
    "bw_df <- data.frame(names = variable_names, bws = bandwidths)\n",
    "#add m.gwr bw value m.gwr$GW.arguments$bw\n",
    "bw_df = rbind(bw_df,data.frame(names=\"m.gwr\",bws=m.gwr$GW.arguments$bw))\n",
    "write.csv(bw_df,\"results/bw_just_tme.csv\")"
   ]
  },
  {
   "cell_type": "code",
   "execution_count": null,
   "metadata": {
    "vscode": {
     "languageId": "r"
    }
   },
   "outputs": [
    {
     "data": {
      "text/plain": [
       "   ***********************************************************************\n",
       "   *                       Package   GWmodel                             *\n",
       "   ***********************************************************************\n",
       "   Program starts at: 2024-11-02 00:28:08.265969 \n",
       "   Call:\n",
       "   gwr.multiscale(formula = formula, data = sf_data, kernel = \"bisquare\", \n",
       "    adaptive = T, criterion = \"CVR\", max.iterations = 1000, bws0 = bws0_list, \n",
       "    verbose = T, predictor.centered = rep(T, 4))\n",
       "\n",
       "   Dependent (y) variable:  EMT_hallmarks\n",
       "   Independent variables:  min_distance_to_Cancer.LumA.SC min_distance_to_Macrophage min_distance_to_Cancer.Basal.SC min_distance_to_Cancer.LumB.SC min_distance_to_Luminal.Progenitors min_distance_to_PVL.Immature min_distance_to_Mature.Luminal min_distance_to_Cancer.Her2.SC min_distance_to_Myoepithelial min_distance_to_CAFs.myCAF.like min_distance_to_Cancer.Cycling min_distance_to_Monocyte min_distance_to_Cycling_Myeloid min_distance_to_Endothelial.Lymphatic.LYVE1 min_distance_to_Endothelial.CXCL12 min_distance_to_NK.cells min_distance_to_Cycling.T.cells min_distance_to_Endothelial.ACKR1 min_distance_to_Plasmablasts min_distance_to_NKT.cells min_distance_to_T.cells.CD8. min_distance_to_T.cells.CD4. min_distance_to_DCs min_distance_to_B.cells.Naive min_distance_to_B.cells.Memory min_distance_to_Cycling.PVL min_distance_to_PVL.Differentiated\n",
       "   Number of data points: 5662\n",
       "   ***********************************************************************\n",
       "   *                       Multiscale (PSDM) GWR                          *\n",
       "   ***********************************************************************\n",
       "\n",
       "   *********************Model calibration information*********************\n",
       "   Kernel function: bisquare \n",
       "   Adaptive bandwidths for each coefficient(number of nearest neighbours): \n",
       "              (Intercept) min_distance_to_Cancer.LumA.SC\n",
       "   Bandwidth          246                           4861\n",
       "              min_distance_to_Macrophage min_distance_to_Cancer.Basal.SC\n",
       "   Bandwidth                        3123                             764\n",
       "              min_distance_to_Cancer.LumB.SC\n",
       "   Bandwidth                             242\n",
       "              min_distance_to_Luminal.Progenitors min_distance_to_PVL.Immature\n",
       "   Bandwidth                                  812                         5659\n",
       "              min_distance_to_Mature.Luminal min_distance_to_Cancer.Her2.SC\n",
       "   Bandwidth                            1595                            485\n",
       "              min_distance_to_Myoepithelial min_distance_to_CAFs.myCAF.like\n",
       "   Bandwidth                            158                            5659\n",
       "              min_distance_to_Cancer.Cycling min_distance_to_Monocyte\n",
       "   Bandwidth                            5659                     5659\n",
       "              min_distance_to_Cycling_Myeloid\n",
       "   Bandwidth                             5659\n",
       "              min_distance_to_Endothelial.Lymphatic.LYVE1\n",
       "   Bandwidth                                         5134\n",
       "              min_distance_to_Endothelial.CXCL12 min_distance_to_NK.cells\n",
       "   Bandwidth                                5251                     5659\n",
       "              min_distance_to_Cycling.T.cells min_distance_to_Endothelial.ACKR1\n",
       "   Bandwidth                             5659                              5251\n",
       "              min_distance_to_Plasmablasts min_distance_to_NKT.cells\n",
       "   Bandwidth                          5659                      5536\n",
       "              min_distance_to_T.cells.CD8. min_distance_to_T.cells.CD4.\n",
       "   Bandwidth                          5421                         1211\n",
       "              min_distance_to_DCs min_distance_to_B.cells.Naive\n",
       "   Bandwidth                 5659                          5085\n",
       "              min_distance_to_B.cells.Memory min_distance_to_Cycling.PVL\n",
       "   Bandwidth                            5659                        1034\n",
       "              min_distance_to_PVL.Differentiated\n",
       "   Bandwidth                                5659\n",
       "\n",
       "   *************Summary of multiscale GWR coefficient estimates:***************\n",
       "                                                      Min.     1st Qu.\n",
       "   Intercept                                    0.14407663  0.17573091\n",
       "   min_distance_to_Cancer.LumA.SC              -0.08488476 -0.08145453\n",
       "   min_distance_to_Macrophage                  -0.01333908 -0.00844109\n",
       "   min_distance_to_Cancer.Basal.SC             -0.03091646 -0.01762570\n",
       "   min_distance_to_Cancer.LumB.SC              -0.30725170 -0.03535716\n",
       "   min_distance_to_Luminal.Progenitors         -0.16012903 -0.10521365\n",
       "   min_distance_to_PVL.Immature                -0.00610376 -0.00582806\n",
       "   min_distance_to_Mature.Luminal              -0.07381835 -0.01342422\n",
       "   min_distance_to_Cancer.Her2.SC              -0.21794635 -0.09748832\n",
       "   min_distance_to_Myoepithelial               -0.61077890 -0.01110779\n",
       "   min_distance_to_CAFs.myCAF.like              0.03039122  0.03046466\n",
       "   min_distance_to_Cancer.Cycling              -0.03335763 -0.03312037\n",
       "   min_distance_to_Monocyte                     0.01207428  0.01215048\n",
       "   min_distance_to_Cycling_Myeloid              0.00176580  0.00359853\n",
       "   min_distance_to_Endothelial.Lymphatic.LYVE1 -0.00096664  0.00135544\n",
       "   min_distance_to_Endothelial.CXCL12          -0.00345136 -0.00307558\n",
       "   min_distance_to_NK.cells                    -0.02189710 -0.02166638\n",
       "   min_distance_to_Cycling.T.cells              0.00227563  0.00275714\n",
       "   min_distance_to_Endothelial.ACKR1           -0.00304281  0.00123685\n",
       "   min_distance_to_Plasmablasts                 0.02582789  0.02655099\n",
       "   min_distance_to_NKT.cells                    0.00343673  0.00365642\n",
       "   min_distance_to_T.cells.CD8.                 0.00253757  0.00273236\n",
       "   min_distance_to_T.cells.CD4.                -0.02270960 -0.00495428\n",
       "   min_distance_to_DCs                          0.00397735  0.00996132\n",
       "   min_distance_to_B.cells.Naive                0.03242927  0.04580372\n",
       "   min_distance_to_B.cells.Memory               0.00954337  0.01334501\n",
       "   min_distance_to_Cycling.PVL                 -0.05968656 -0.03819702\n",
       "   min_distance_to_PVL.Differentiated           0.01038467  0.01072137\n",
       "                                                    Median     3rd Qu.    Max.\n",
       "   Intercept                                    0.18604528  0.20560171  0.2477\n",
       "   min_distance_to_Cancer.LumA.SC              -0.07941550 -0.07540243 -0.0407\n",
       "   min_distance_to_Macrophage                  -0.00700212 -0.00236403  0.0109\n",
       "   min_distance_to_Cancer.Basal.SC             -0.00335675  0.01215268  0.0560\n",
       "   min_distance_to_Cancer.LumB.SC               0.01086872  0.05270892  0.2268\n",
       "   min_distance_to_Luminal.Progenitors         -0.06704494 -0.01988199  0.0619\n",
       "   min_distance_to_PVL.Immature                -0.00577618 -0.00571219 -0.0030\n",
       "   min_distance_to_Mature.Luminal              -0.00157991  0.00410118  0.0171\n",
       "   min_distance_to_Cancer.Her2.SC              -0.06792200 -0.02534332  0.0308\n",
       "   min_distance_to_Myoepithelial                0.06415245  0.19732123  0.6129\n",
       "   min_distance_to_CAFs.myCAF.like              0.03047710  0.03049486  0.0336\n",
       "   min_distance_to_Cancer.Cycling              -0.03288179 -0.03250571 -0.0292\n",
       "   min_distance_to_Monocyte                     0.01218335  0.01223094  0.0173\n",
       "   min_distance_to_Cycling_Myeloid              0.00375243  0.00389534  0.0041\n",
       "   min_distance_to_Endothelial.Lymphatic.LYVE1  0.00161250  0.00180723  0.0024\n",
       "   min_distance_to_Endothelial.CXCL12          -0.00304784 -0.00301975  0.0013\n",
       "   min_distance_to_NK.cells                    -0.02162517 -0.02155955 -0.0180\n",
       "   min_distance_to_Cycling.T.cells              0.00281135  0.00291293  0.0061\n",
       "   min_distance_to_Endothelial.ACKR1            0.00139601  0.00149173  0.0027\n",
       "   min_distance_to_Plasmablasts                 0.02661311  0.02664269  0.0268\n",
       "   min_distance_to_NKT.cells                    0.00373991  0.00384695  0.0108\n",
       "   min_distance_to_T.cells.CD8.                 0.00281262  0.00295632  0.0097\n",
       "   min_distance_to_T.cells.CD4.                -0.00269220  0.00532668  0.0409\n",
       "   min_distance_to_DCs                          0.01012054  0.01024380  0.0106\n",
       "   min_distance_to_B.cells.Naive                0.04592842  0.04599535  0.0476\n",
       "   min_distance_to_B.cells.Memory               0.01337577  0.01338675  0.0134\n",
       "   min_distance_to_Cycling.PVL                 -0.02441863 -0.00706488  0.0137\n",
       "   min_distance_to_PVL.Differentiated           0.01085310  0.01095264  0.0127\n",
       "   ************************Diagnostic information*************************\n",
       "   Number of data points: 5662 \n",
       "   Effective number of parameters (2trace(S) - trace(S'S)): 308.0703 \n",
       "   Effective degrees of freedom (n-2trace(S) + trace(S'S)): 5353.93 \n",
       "   AICc value:  -22975.81 \n",
       "   AIC value:  -23247.98 \n",
       "   BIC value:  -27020.23 \n",
       "   Residual sum of squares:  5.227913 \n",
       "   R-square value:  0.3398029 \n",
       "   Adjusted R-square value:  0.3018074 \n",
       "\n",
       "   ***********************************************************************\n",
       "   Program stops at: 2024-11-02 04:24:18.472532 "
      ]
     },
     "metadata": {},
     "output_type": "display_data"
    }
   ],
   "source": [
    "gw.ms"
   ]
  }
 ],
 "metadata": {
  "kernelspec": {
   "display_name": "R",
   "language": "R",
   "name": "ir"
  },
  "language_info": {
   "codemirror_mode": "r",
   "file_extension": ".r",
   "mimetype": "text/x-r-source",
   "name": "R",
   "pygments_lexer": "r",
   "version": "4.4.1"
  }
 },
 "nbformat": 4,
 "nbformat_minor": 2
}
